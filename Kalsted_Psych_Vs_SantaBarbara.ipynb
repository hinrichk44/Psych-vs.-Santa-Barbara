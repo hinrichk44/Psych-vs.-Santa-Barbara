{
 "cells": [
  {
   "cell_type": "markdown",
   "metadata": {},
   "source": [
    "# Project Overview"
   ]
  },
  {
   "cell_type": "markdown",
   "metadata": {},
   "source": [
    "One show that I really enjoyed watching was Psych. Psych is a detective-comedy show that ran from 2006 to 2014. As soon as I got to Season Three of my binge watch I started to get curious about the amount of murders depicted in the show. The show takes place in Santa Barbara, CA. I never recalled hearing or reading in the news that Santa Barbara was a hotbed of homicide. So, I tallied up every murder in the show and created my own dataset. I also derived a dataset showing the actual amount of murders in Santa Barbara from the annual Homicide in California report published by the California Department of Justice. This project is meant to compare fact to fiction."
   ]
  },
  {
   "cell_type": "markdown",
   "metadata": {},
   "source": [
    "# Importing Basic Libraries"
   ]
  },
  {
   "cell_type": "code",
   "execution_count": 1,
   "metadata": {},
   "outputs": [],
   "source": [
    "#Here are the libraries I tend to use in my analysis. I tend to import all of them at once for simplicity.\n",
    "#If I need more, then I will import them as needed. \n",
    "\n",
    "import matplotlib.pyplot as plt\n",
    "import numpy as np\n",
    "import pandas as pd\n",
    "import seaborn as sns\n",
    "plt.style.use('fivethirtyeight')\n",
    "%matplotlib inline"
   ]
  },
  {
   "cell_type": "markdown",
   "metadata": {},
   "source": [
    "# Explorartory Analysis"
   ]
  },
  {
   "cell_type": "code",
   "execution_count": 2,
   "metadata": {},
   "outputs": [],
   "source": [
    "#Here I am importing the Psych dataset I created\n",
    "\n",
    "psych_data = pd.read_csv('Psych_Murders.csv')"
   ]
  },
  {
   "cell_type": "code",
   "execution_count": 3,
   "metadata": {},
   "outputs": [
    {
     "data": {
      "text/html": [
       "<div>\n",
       "<style scoped>\n",
       "    .dataframe tbody tr th:only-of-type {\n",
       "        vertical-align: middle;\n",
       "    }\n",
       "\n",
       "    .dataframe tbody tr th {\n",
       "        vertical-align: top;\n",
       "    }\n",
       "\n",
       "    .dataframe thead th {\n",
       "        text-align: right;\n",
       "    }\n",
       "</style>\n",
       "<table border=\"1\" class=\"dataframe\">\n",
       "  <thead>\n",
       "    <tr style=\"text-align: right;\">\n",
       "      <th></th>\n",
       "      <th>Season</th>\n",
       "      <th>Episode</th>\n",
       "      <th>Murders</th>\n",
       "      <th>Notes</th>\n",
       "      <th>Corresponding Year</th>\n",
       "    </tr>\n",
       "  </thead>\n",
       "  <tbody>\n",
       "    <tr>\n",
       "      <th>0</th>\n",
       "      <td>1</td>\n",
       "      <td>1</td>\n",
       "      <td>2</td>\n",
       "      <td>NaN</td>\n",
       "      <td>2006</td>\n",
       "    </tr>\n",
       "    <tr>\n",
       "      <th>1</th>\n",
       "      <td>1</td>\n",
       "      <td>2</td>\n",
       "      <td>1</td>\n",
       "      <td>NaN</td>\n",
       "      <td>2006</td>\n",
       "    </tr>\n",
       "    <tr>\n",
       "      <th>2</th>\n",
       "      <td>1</td>\n",
       "      <td>3</td>\n",
       "      <td>1</td>\n",
       "      <td>NaN</td>\n",
       "      <td>2006</td>\n",
       "    </tr>\n",
       "    <tr>\n",
       "      <th>3</th>\n",
       "      <td>1</td>\n",
       "      <td>4</td>\n",
       "      <td>0</td>\n",
       "      <td>NaN</td>\n",
       "      <td>2006</td>\n",
       "    </tr>\n",
       "    <tr>\n",
       "      <th>4</th>\n",
       "      <td>1</td>\n",
       "      <td>5</td>\n",
       "      <td>4</td>\n",
       "      <td>Alluded to two murders in previous months</td>\n",
       "      <td>2006</td>\n",
       "    </tr>\n",
       "  </tbody>\n",
       "</table>\n",
       "</div>"
      ],
      "text/plain": [
       "   Season  Episode  Murders                                      Notes  \\\n",
       "0       1        1        2                                        NaN   \n",
       "1       1        2        1                                        NaN   \n",
       "2       1        3        1                                        NaN   \n",
       "3       1        4        0                                        NaN   \n",
       "4       1        5        4  Alluded to two murders in previous months   \n",
       "\n",
       "   Corresponding Year  \n",
       "0                2006  \n",
       "1                2006  \n",
       "2                2006  \n",
       "3                2006  \n",
       "4                2006  "
      ]
     },
     "execution_count": 3,
     "metadata": {},
     "output_type": "execute_result"
    }
   ],
   "source": [
    "#Here is a basic first look at the dataset\n",
    "\n",
    "psych_data.head()"
   ]
  },
  {
   "cell_type": "code",
   "execution_count": 4,
   "metadata": {},
   "outputs": [
    {
     "data": {
      "text/plain": [
       "(119, 5)"
      ]
     },
     "execution_count": 4,
     "metadata": {},
     "output_type": "execute_result"
    }
   ],
   "source": [
    "#There are 119 rows and 5 columns of data\n",
    "\n",
    "psych_data.shape"
   ]
  },
  {
   "cell_type": "code",
   "execution_count": 5,
   "metadata": {},
   "outputs": [
    {
     "data": {
      "text/plain": [
       "Season                 int64\n",
       "Episode                int64\n",
       "Murders                int64\n",
       "Notes                 object\n",
       "Corresponding Year     int64\n",
       "dtype: object"
      ]
     },
     "execution_count": 5,
     "metadata": {},
     "output_type": "execute_result"
    }
   ],
   "source": [
    "#Here we are checking the data types of each variable\n",
    "\n",
    "psych_data.dtypes"
   ]
  },
  {
   "cell_type": "code",
   "execution_count": 6,
   "metadata": {},
   "outputs": [
    {
     "data": {
      "text/plain": [
       "Season                  0\n",
       "Episode                 0\n",
       "Murders                 0\n",
       "Notes                 106\n",
       "Corresponding Year      0\n",
       "dtype: int64"
      ]
     },
     "execution_count": 6,
     "metadata": {},
     "output_type": "execute_result"
    }
   ],
   "source": [
    "#Here we are checking to see if there are any missing variables\n",
    "#I know I created the dataset myself, but it's always good to check anyway\n",
    "#The Notes column has a lot of null values, but they aren't really null, they just didn't need any notes. \n",
    "\n",
    "psych_data.isna().sum()"
   ]
  },
  {
   "cell_type": "code",
   "execution_count": 7,
   "metadata": {},
   "outputs": [
    {
     "data": {
      "text/html": [
       "<div>\n",
       "<style scoped>\n",
       "    .dataframe tbody tr th:only-of-type {\n",
       "        vertical-align: middle;\n",
       "    }\n",
       "\n",
       "    .dataframe tbody tr th {\n",
       "        vertical-align: top;\n",
       "    }\n",
       "\n",
       "    .dataframe thead th {\n",
       "        text-align: right;\n",
       "    }\n",
       "</style>\n",
       "<table border=\"1\" class=\"dataframe\">\n",
       "  <thead>\n",
       "    <tr style=\"text-align: right;\">\n",
       "      <th></th>\n",
       "      <th>Season</th>\n",
       "      <th>Episode</th>\n",
       "      <th>Murders</th>\n",
       "      <th>Corresponding Year</th>\n",
       "    </tr>\n",
       "  </thead>\n",
       "  <tbody>\n",
       "    <tr>\n",
       "      <th>count</th>\n",
       "      <td>119.000000</td>\n",
       "      <td>119.000000</td>\n",
       "      <td>119.000000</td>\n",
       "      <td>119.000000</td>\n",
       "    </tr>\n",
       "    <tr>\n",
       "      <th>mean</th>\n",
       "      <td>4.310924</td>\n",
       "      <td>8.067227</td>\n",
       "      <td>1.109244</td>\n",
       "      <td>2009.310924</td>\n",
       "    </tr>\n",
       "    <tr>\n",
       "      <th>std</th>\n",
       "      <td>2.196869</td>\n",
       "      <td>4.486762</td>\n",
       "      <td>0.989692</td>\n",
       "      <td>2.196869</td>\n",
       "    </tr>\n",
       "    <tr>\n",
       "      <th>min</th>\n",
       "      <td>1.000000</td>\n",
       "      <td>1.000000</td>\n",
       "      <td>0.000000</td>\n",
       "      <td>2006.000000</td>\n",
       "    </tr>\n",
       "    <tr>\n",
       "      <th>25%</th>\n",
       "      <td>2.000000</td>\n",
       "      <td>4.000000</td>\n",
       "      <td>0.000000</td>\n",
       "      <td>2007.000000</td>\n",
       "    </tr>\n",
       "    <tr>\n",
       "      <th>50%</th>\n",
       "      <td>4.000000</td>\n",
       "      <td>8.000000</td>\n",
       "      <td>1.000000</td>\n",
       "      <td>2009.000000</td>\n",
       "    </tr>\n",
       "    <tr>\n",
       "      <th>75%</th>\n",
       "      <td>6.000000</td>\n",
       "      <td>12.000000</td>\n",
       "      <td>2.000000</td>\n",
       "      <td>2011.000000</td>\n",
       "    </tr>\n",
       "    <tr>\n",
       "      <th>max</th>\n",
       "      <td>8.000000</td>\n",
       "      <td>16.000000</td>\n",
       "      <td>4.000000</td>\n",
       "      <td>2013.000000</td>\n",
       "    </tr>\n",
       "  </tbody>\n",
       "</table>\n",
       "</div>"
      ],
      "text/plain": [
       "           Season     Episode     Murders  Corresponding Year\n",
       "count  119.000000  119.000000  119.000000          119.000000\n",
       "mean     4.310924    8.067227    1.109244         2009.310924\n",
       "std      2.196869    4.486762    0.989692            2.196869\n",
       "min      1.000000    1.000000    0.000000         2006.000000\n",
       "25%      2.000000    4.000000    0.000000         2007.000000\n",
       "50%      4.000000    8.000000    1.000000         2009.000000\n",
       "75%      6.000000   12.000000    2.000000         2011.000000\n",
       "max      8.000000   16.000000    4.000000         2013.000000"
      ]
     },
     "execution_count": 7,
     "metadata": {},
     "output_type": "execute_result"
    }
   ],
   "source": [
    "#Here are some standard statistics from the dataset\n",
    "#Looks like there are 1.11 murders per episode of Psych, with 4 being the most on a single episode\n",
    "#My analysis will be mainly on the *yearly* murders depicted in Psych, not per episode\n",
    "\n",
    "psych_data.describe()"
   ]
  },
  {
   "cell_type": "code",
   "execution_count": 8,
   "metadata": {},
   "outputs": [],
   "source": [
    "#Here I am calibrating the dataset to sum the murders per episode into a yearly figure\n",
    "#This way I can actually compare Psych to the real amount of homicides in Santa Barbara, CA\n",
    "\n",
    "psych_year = psych_data.groupby('Corresponding Year').agg({'Murders':'sum'})"
   ]
  },
  {
   "cell_type": "code",
   "execution_count": 9,
   "metadata": {
    "scrolled": true
   },
   "outputs": [
    {
     "data": {
      "text/html": [
       "<div>\n",
       "<style scoped>\n",
       "    .dataframe tbody tr th:only-of-type {\n",
       "        vertical-align: middle;\n",
       "    }\n",
       "\n",
       "    .dataframe tbody tr th {\n",
       "        vertical-align: top;\n",
       "    }\n",
       "\n",
       "    .dataframe thead th {\n",
       "        text-align: right;\n",
       "    }\n",
       "</style>\n",
       "<table border=\"1\" class=\"dataframe\">\n",
       "  <thead>\n",
       "    <tr style=\"text-align: right;\">\n",
       "      <th></th>\n",
       "      <th>Murders</th>\n",
       "    </tr>\n",
       "    <tr>\n",
       "      <th>Corresponding Year</th>\n",
       "      <th></th>\n",
       "    </tr>\n",
       "  </thead>\n",
       "  <tbody>\n",
       "    <tr>\n",
       "      <th>2006</th>\n",
       "      <td>16</td>\n",
       "    </tr>\n",
       "    <tr>\n",
       "      <th>2007</th>\n",
       "      <td>16</td>\n",
       "    </tr>\n",
       "    <tr>\n",
       "      <th>2008</th>\n",
       "      <td>14</td>\n",
       "    </tr>\n",
       "    <tr>\n",
       "      <th>2009</th>\n",
       "      <td>15</td>\n",
       "    </tr>\n",
       "    <tr>\n",
       "      <th>2010</th>\n",
       "      <td>18</td>\n",
       "    </tr>\n",
       "  </tbody>\n",
       "</table>\n",
       "</div>"
      ],
      "text/plain": [
       "                    Murders\n",
       "Corresponding Year         \n",
       "2006                     16\n",
       "2007                     16\n",
       "2008                     14\n",
       "2009                     15\n",
       "2010                     18"
      ]
     },
     "execution_count": 9,
     "metadata": {},
     "output_type": "execute_result"
    }
   ],
   "source": [
    "#Here's a quick look at the newly created dataset\n",
    "\n",
    "psych_year.head()"
   ]
  },
  {
   "cell_type": "code",
   "execution_count": 10,
   "metadata": {},
   "outputs": [],
   "source": [
    "#I realized that I named the column \"Murders\" for both the Psych dataset, and the Santa Barbara dataset \n",
    "#So, I had to rename the Murders column in Psych so as to avoid any confusion\n",
    "\n",
    "psych_year = psych_year.rename(columns={'Murders': 'Murders(Fictional)'})"
   ]
  },
  {
   "cell_type": "code",
   "execution_count": 11,
   "metadata": {},
   "outputs": [
    {
     "data": {
      "text/plain": [
       "[]"
      ]
     },
     "execution_count": 11,
     "metadata": {},
     "output_type": "execute_result"
    },
    {
     "data": {
      "image/png": "[encoded data removed]",
      "text/plain": [
       "<Figure size 432x288 with 1 Axes>"
      ]
     },
     "metadata": {
      "needs_background": "light"
     },
     "output_type": "display_data"
    }
   ],
   "source": [
    "#Here I am plotting the murders portrayed in Psych each season\n",
    "#The year roughly corresponds to the season, so 2006 = Season 1, etc. \n",
    "\n",
    "psych_year['Murders(Fictional)'].plot()\n",
    "\n",
    "plt.title('Seasonal Murders in Psych')\n",
    "\n",
    "plt.ylabel('Murders')\n",
    "\n",
    "plt.plot()"
   ]
  },
  {
   "cell_type": "code",
   "execution_count": 12,
   "metadata": {},
   "outputs": [],
   "source": [
    "#Here I am importing the Santa Barbara dataset that has the real yearly total of murders in that city\n",
    "\n",
    "santabarbara = pd.read_csv('SantaBarbara_Murders.csv', index_col = \"Year\")"
   ]
  },
  {
   "cell_type": "code",
   "execution_count": 13,
   "metadata": {},
   "outputs": [
    {
     "data": {
      "text/html": [
       "<div>\n",
       "<style scoped>\n",
       "    .dataframe tbody tr th:only-of-type {\n",
       "        vertical-align: middle;\n",
       "    }\n",
       "\n",
       "    .dataframe tbody tr th {\n",
       "        vertical-align: top;\n",
       "    }\n",
       "\n",
       "    .dataframe thead th {\n",
       "        text-align: right;\n",
       "    }\n",
       "</style>\n",
       "<table border=\"1\" class=\"dataframe\">\n",
       "  <thead>\n",
       "    <tr style=\"text-align: right;\">\n",
       "      <th></th>\n",
       "      <th>Murders</th>\n",
       "    </tr>\n",
       "    <tr>\n",
       "      <th>Year</th>\n",
       "      <th></th>\n",
       "    </tr>\n",
       "  </thead>\n",
       "  <tbody>\n",
       "    <tr>\n",
       "      <th>2006</th>\n",
       "      <td>13</td>\n",
       "    </tr>\n",
       "    <tr>\n",
       "      <th>2007</th>\n",
       "      <td>10</td>\n",
       "    </tr>\n",
       "    <tr>\n",
       "      <th>2008</th>\n",
       "      <td>14</td>\n",
       "    </tr>\n",
       "    <tr>\n",
       "      <th>2009</th>\n",
       "      <td>11</td>\n",
       "    </tr>\n",
       "    <tr>\n",
       "      <th>2010</th>\n",
       "      <td>11</td>\n",
       "    </tr>\n",
       "  </tbody>\n",
       "</table>\n",
       "</div>"
      ],
      "text/plain": [
       "      Murders\n",
       "Year         \n",
       "2006       13\n",
       "2007       10\n",
       "2008       14\n",
       "2009       11\n",
       "2010       11"
      ]
     },
     "execution_count": 13,
     "metadata": {},
     "output_type": "execute_result"
    }
   ],
   "source": [
    "#Here is a brief look at the dataset\n",
    "\n",
    "santabarbara.head()"
   ]
  },
  {
   "cell_type": "code",
   "execution_count": 14,
   "metadata": {},
   "outputs": [
    {
     "data": {
      "text/plain": [
       "(9, 1)"
      ]
     },
     "execution_count": 14,
     "metadata": {},
     "output_type": "execute_result"
    }
   ],
   "source": [
    "#There are 9 rows and 1 column worth of data\n",
    "\n",
    "santabarbara.shape"
   ]
  },
  {
   "cell_type": "code",
   "execution_count": 15,
   "metadata": {},
   "outputs": [
    {
     "data": {
      "text/plain": [
       "Murders    0\n",
       "dtype: int64"
      ]
     },
     "execution_count": 15,
     "metadata": {},
     "output_type": "execute_result"
    }
   ],
   "source": [
    "#There are no missing values in the Santa Barbara dataset\n",
    "\n",
    "santabarbara.isnull().sum()"
   ]
  },
  {
   "cell_type": "code",
   "execution_count": 16,
   "metadata": {},
   "outputs": [
    {
     "data": {
      "text/html": [
       "<div>\n",
       "<style scoped>\n",
       "    .dataframe tbody tr th:only-of-type {\n",
       "        vertical-align: middle;\n",
       "    }\n",
       "\n",
       "    .dataframe tbody tr th {\n",
       "        vertical-align: top;\n",
       "    }\n",
       "\n",
       "    .dataframe thead th {\n",
       "        text-align: right;\n",
       "    }\n",
       "</style>\n",
       "<table border=\"1\" class=\"dataframe\">\n",
       "  <thead>\n",
       "    <tr style=\"text-align: right;\">\n",
       "      <th></th>\n",
       "      <th>Murders</th>\n",
       "    </tr>\n",
       "  </thead>\n",
       "  <tbody>\n",
       "    <tr>\n",
       "      <th>count</th>\n",
       "      <td>9.000000</td>\n",
       "    </tr>\n",
       "    <tr>\n",
       "      <th>mean</th>\n",
       "      <td>10.777778</td>\n",
       "    </tr>\n",
       "    <tr>\n",
       "      <th>std</th>\n",
       "      <td>3.345810</td>\n",
       "    </tr>\n",
       "    <tr>\n",
       "      <th>min</th>\n",
       "      <td>6.000000</td>\n",
       "    </tr>\n",
       "    <tr>\n",
       "      <th>25%</th>\n",
       "      <td>10.000000</td>\n",
       "    </tr>\n",
       "    <tr>\n",
       "      <th>50%</th>\n",
       "      <td>11.000000</td>\n",
       "    </tr>\n",
       "    <tr>\n",
       "      <th>75%</th>\n",
       "      <td>13.000000</td>\n",
       "    </tr>\n",
       "    <tr>\n",
       "      <th>max</th>\n",
       "      <td>16.000000</td>\n",
       "    </tr>\n",
       "  </tbody>\n",
       "</table>\n",
       "</div>"
      ],
      "text/plain": [
       "         Murders\n",
       "count   9.000000\n",
       "mean   10.777778\n",
       "std     3.345810\n",
       "min     6.000000\n",
       "25%    10.000000\n",
       "50%    11.000000\n",
       "75%    13.000000\n",
       "max    16.000000"
      ]
     },
     "execution_count": 16,
     "metadata": {},
     "output_type": "execute_result"
    }
   ],
   "source": [
    "#Here are some basic descriptive statistics from the dataset\n",
    "#It looks like there are 11 homicides per year in Santa Barbara from 2006-2014\n",
    "#The most amount of murders during this time was 16, and the fewest was 6\n",
    "\n",
    "santabarbara.describe()"
   ]
  },
  {
   "cell_type": "code",
   "execution_count": 17,
   "metadata": {},
   "outputs": [
    {
     "data": {
      "text/plain": [
       "[]"
      ]
     },
     "execution_count": 17,
     "metadata": {},
     "output_type": "execute_result"
    },
    {
     "data": {
      "image/png": "[encoded data removed]",
      "text/plain": [
       "<Figure size 432x288 with 1 Axes>"
      ]
     },
     "metadata": {
      "needs_background": "light"
     },
     "output_type": "display_data"
    }
   ],
   "source": [
    "#Here I am plotting the actual recorded murders in Santa Barbara\n",
    "#Looks like 2014 had a spike in murders after a relative lull from 2012-2013\n",
    "#Note that I did not have 2014 in my data for Psych, only for Santa Barbara\n",
    "\n",
    "santabarbara['Murders'].plot()\n",
    "\n",
    "plt.title('Yearly Murders in Santa Barbara')\n",
    "\n",
    "plt.ylabel('Murders')\n",
    "\n",
    "plt.plot()"
   ]
  },
  {
   "cell_type": "code",
   "execution_count": 18,
   "metadata": {},
   "outputs": [],
   "source": [
    "#Here I am combining the datasets of Psych and Santa Barbara so I can do an easier joint analysis\n",
    "\n",
    "total_murders = pd.concat([psych_year, santabarbara], axis=1, join='inner')"
   ]
  },
  {
   "cell_type": "code",
   "execution_count": 19,
   "metadata": {},
   "outputs": [
    {
     "data": {
      "text/html": [
       "<div>\n",
       "<style scoped>\n",
       "    .dataframe tbody tr th:only-of-type {\n",
       "        vertical-align: middle;\n",
       "    }\n",
       "\n",
       "    .dataframe tbody tr th {\n",
       "        vertical-align: top;\n",
       "    }\n",
       "\n",
       "    .dataframe thead th {\n",
       "        text-align: right;\n",
       "    }\n",
       "</style>\n",
       "<table border=\"1\" class=\"dataframe\">\n",
       "  <thead>\n",
       "    <tr style=\"text-align: right;\">\n",
       "      <th></th>\n",
       "      <th>Murders(Fictional)</th>\n",
       "      <th>Murders</th>\n",
       "    </tr>\n",
       "  </thead>\n",
       "  <tbody>\n",
       "    <tr>\n",
       "      <th>2006</th>\n",
       "      <td>16</td>\n",
       "      <td>13</td>\n",
       "    </tr>\n",
       "    <tr>\n",
       "      <th>2007</th>\n",
       "      <td>16</td>\n",
       "      <td>10</td>\n",
       "    </tr>\n",
       "    <tr>\n",
       "      <th>2008</th>\n",
       "      <td>14</td>\n",
       "      <td>14</td>\n",
       "    </tr>\n",
       "    <tr>\n",
       "      <th>2009</th>\n",
       "      <td>15</td>\n",
       "      <td>11</td>\n",
       "    </tr>\n",
       "    <tr>\n",
       "      <th>2010</th>\n",
       "      <td>18</td>\n",
       "      <td>11</td>\n",
       "    </tr>\n",
       "  </tbody>\n",
       "</table>\n",
       "</div>"
      ],
      "text/plain": [
       "      Murders(Fictional)  Murders\n",
       "2006                  16       13\n",
       "2007                  16       10\n",
       "2008                  14       14\n",
       "2009                  15       11\n",
       "2010                  18       11"
      ]
     },
     "execution_count": 19,
     "metadata": {},
     "output_type": "execute_result"
    }
   ],
   "source": [
    "#Here is a brief look at the new dataset\n",
    "\n",
    "total_murders.head()"
   ]
  },
  {
   "cell_type": "code",
   "execution_count": 20,
   "metadata": {},
   "outputs": [
    {
     "data": {
      "image/png": "[encoded data removed]",
      "text/plain": [
       "<Figure size 432x288 with 1 Axes>"
      ]
     },
     "metadata": {
      "needs_background": "light"
     },
     "output_type": "display_data"
    }
   ],
   "source": [
    "#Plotting both murders side by side\n",
    "\n",
    "total_murders.plot()\n",
    "\n",
    "plt.title(\"Fiction vs. Reality\")\n",
    "plt.xlabel(\"Year\")\n",
    "plt.ylabel(\"Total Murders\")\n",
    "\n",
    "plt.legend(['Psych', 'Santa Barbara'])\n",
    "plt.show()"
   ]
  },
  {
   "cell_type": "markdown",
   "metadata": {},
   "source": [
    "#### Comments"
   ]
  },
  {
   "cell_type": "markdown",
   "metadata": {},
   "source": [
    "1. It looks like 2008 was the only time in which the show Psych matched the actual amount of murders in Santa Barbara\n",
    "2. Execept for 2008, Psych had more murders shown than actually occurred in Santa Barbara\n",
    "3. Ironically, the year in which the most murders were shown on Psych, the actual amount of homicies in Santa Barbara\n",
    "    was the lowest (2012)"
   ]
  },
  {
   "cell_type": "markdown",
   "metadata": {},
   "source": [
    "# Increase Murders to Increase Ratings?"
   ]
  },
  {
   "cell_type": "markdown",
   "metadata": {},
   "source": [
    "After analyzing the difference between the murders portrayed on Psych and the actual murders in Santa Barbara, I wanted to see if there was a reason that Psych had so many more murders than real life. I know it's a t.v. show and therefore many elements are going to be glamorized or embellished, but my hypothesis was that perhaps more murders led to higher ratings for the show. I gathered the average viewership for each season and once again created my own dataset."
   ]
  },
  {
   "cell_type": "code",
   "execution_count": 21,
   "metadata": {},
   "outputs": [],
   "source": [
    "#Here I am uploading the dataset documenting Psych viewership throughout their run on TV\n",
    "\n",
    "psych_ratings = pd.read_csv('Psych_Ratings.csv', index_col = \"Year\")"
   ]
  },
  {
   "cell_type": "code",
   "execution_count": 22,
   "metadata": {},
   "outputs": [
    {
     "data": {
      "text/html": [
       "<div>\n",
       "<style scoped>\n",
       "    .dataframe tbody tr th:only-of-type {\n",
       "        vertical-align: middle;\n",
       "    }\n",
       "\n",
       "    .dataframe tbody tr th {\n",
       "        vertical-align: top;\n",
       "    }\n",
       "\n",
       "    .dataframe thead th {\n",
       "        text-align: right;\n",
       "    }\n",
       "</style>\n",
       "<table border=\"1\" class=\"dataframe\">\n",
       "  <thead>\n",
       "    <tr style=\"text-align: right;\">\n",
       "      <th></th>\n",
       "      <th>Average Ratings</th>\n",
       "      <th>Season</th>\n",
       "      <th>Notes</th>\n",
       "    </tr>\n",
       "    <tr>\n",
       "      <th>Year</th>\n",
       "      <th></th>\n",
       "      <th></th>\n",
       "      <th></th>\n",
       "    </tr>\n",
       "  </thead>\n",
       "  <tbody>\n",
       "    <tr>\n",
       "      <th>2006</th>\n",
       "      <td>4.34</td>\n",
       "      <td>1</td>\n",
       "      <td>Highest rated episode was episode 1 at 6 milli...</td>\n",
       "    </tr>\n",
       "    <tr>\n",
       "      <th>2007</th>\n",
       "      <td>3.92</td>\n",
       "      <td>2</td>\n",
       "      <td>NaN</td>\n",
       "    </tr>\n",
       "    <tr>\n",
       "      <th>2008</th>\n",
       "      <td>4.13</td>\n",
       "      <td>3</td>\n",
       "      <td>NaN</td>\n",
       "    </tr>\n",
       "    <tr>\n",
       "      <th>2009</th>\n",
       "      <td>3.61</td>\n",
       "      <td>4</td>\n",
       "      <td>NaN</td>\n",
       "    </tr>\n",
       "    <tr>\n",
       "      <th>2010</th>\n",
       "      <td>3.30</td>\n",
       "      <td>5</td>\n",
       "      <td>NaN</td>\n",
       "    </tr>\n",
       "  </tbody>\n",
       "</table>\n",
       "</div>"
      ],
      "text/plain": [
       "      Average Ratings  Season  \\\n",
       "Year                            \n",
       "2006             4.34       1   \n",
       "2007             3.92       2   \n",
       "2008             4.13       3   \n",
       "2009             3.61       4   \n",
       "2010             3.30       5   \n",
       "\n",
       "                                                  Notes  \n",
       "Year                                                     \n",
       "2006  Highest rated episode was episode 1 at 6 milli...  \n",
       "2007                                                NaN  \n",
       "2008                                                NaN  \n",
       "2009                                                NaN  \n",
       "2010                                                NaN  "
      ]
     },
     "execution_count": 22,
     "metadata": {},
     "output_type": "execute_result"
    }
   ],
   "source": [
    "#Here is a brief look at the dataset\n",
    "\n",
    "psych_ratings.head()"
   ]
  },
  {
   "cell_type": "code",
   "execution_count": 23,
   "metadata": {},
   "outputs": [
    {
     "data": {
      "text/plain": [
       "Average Ratings    0\n",
       "Season             0\n",
       "Notes              7\n",
       "dtype: int64"
      ]
     },
     "execution_count": 23,
     "metadata": {},
     "output_type": "execute_result"
    }
   ],
   "source": [
    "#The only null values are in the Notes column, which isn't relevant to the analysis\n",
    "\n",
    "psych_ratings.isna().sum()"
   ]
  },
  {
   "cell_type": "code",
   "execution_count": 24,
   "metadata": {},
   "outputs": [
    {
     "data": {
      "text/plain": [
       "[]"
      ]
     },
     "execution_count": 24,
     "metadata": {},
     "output_type": "execute_result"
    },
    {
     "data": {
      "image/png": "[encoded data removed]",
      "text/plain": [
       "<Figure size 432x288 with 1 Axes>"
      ]
     },
     "metadata": {
      "needs_background": "light"
     },
     "output_type": "display_data"
    }
   ],
   "source": [
    "#Here I am plotting the viewership of Psych over time\n",
    "#It looks like the show had a steady decline in ratings \n",
    "\n",
    "\n",
    "psych_ratings['Average Ratings'].plot()\n",
    "\n",
    "plt.title('Avg Yearly Viewership for Psych')\n",
    "\n",
    "plt.ylabel('Ratings (in millions)')\n",
    "\n",
    "plt.plot()"
   ]
  },
  {
   "cell_type": "code",
   "execution_count": 25,
   "metadata": {},
   "outputs": [],
   "source": [
    "#Here I am combining the Psych murder dataset with the Psych ratings dataset\n",
    "\n",
    "total_psych = pd.concat([psych_year, psych_ratings], axis=1, join='inner').drop(['Season', 'Notes'], axis=1)"
   ]
  },
  {
   "cell_type": "code",
   "execution_count": 26,
   "metadata": {},
   "outputs": [
    {
     "data": {
      "text/html": [
       "<div>\n",
       "<style scoped>\n",
       "    .dataframe tbody tr th:only-of-type {\n",
       "        vertical-align: middle;\n",
       "    }\n",
       "\n",
       "    .dataframe tbody tr th {\n",
       "        vertical-align: top;\n",
       "    }\n",
       "\n",
       "    .dataframe thead th {\n",
       "        text-align: right;\n",
       "    }\n",
       "</style>\n",
       "<table border=\"1\" class=\"dataframe\">\n",
       "  <thead>\n",
       "    <tr style=\"text-align: right;\">\n",
       "      <th></th>\n",
       "      <th>Murders(Fictional)</th>\n",
       "      <th>Average Ratings</th>\n",
       "    </tr>\n",
       "  </thead>\n",
       "  <tbody>\n",
       "    <tr>\n",
       "      <th>2006</th>\n",
       "      <td>16</td>\n",
       "      <td>4.34</td>\n",
       "    </tr>\n",
       "    <tr>\n",
       "      <th>2007</th>\n",
       "      <td>16</td>\n",
       "      <td>3.92</td>\n",
       "    </tr>\n",
       "    <tr>\n",
       "      <th>2008</th>\n",
       "      <td>14</td>\n",
       "      <td>4.13</td>\n",
       "    </tr>\n",
       "    <tr>\n",
       "      <th>2009</th>\n",
       "      <td>15</td>\n",
       "      <td>3.61</td>\n",
       "    </tr>\n",
       "    <tr>\n",
       "      <th>2010</th>\n",
       "      <td>18</td>\n",
       "      <td>3.30</td>\n",
       "    </tr>\n",
       "  </tbody>\n",
       "</table>\n",
       "</div>"
      ],
      "text/plain": [
       "      Murders(Fictional)  Average Ratings\n",
       "2006                  16             4.34\n",
       "2007                  16             3.92\n",
       "2008                  14             4.13\n",
       "2009                  15             3.61\n",
       "2010                  18             3.30"
      ]
     },
     "execution_count": 26,
     "metadata": {},
     "output_type": "execute_result"
    }
   ],
   "source": [
    "#Here is a brief look at the combined dataset\n",
    "\n",
    "total_psych.head()"
   ]
  },
  {
   "cell_type": "code",
   "execution_count": 27,
   "metadata": {},
   "outputs": [
    {
     "data": {
      "image/png": "[encoded data removed]",
      "text/plain": [
       "<Figure size 432x288 with 1 Axes>"
      ]
     },
     "metadata": {
      "needs_background": "light"
     },
     "output_type": "display_data"
    }
   ],
   "source": [
    "#Here is the plot of the viewership vs. the murders \n",
    "\n",
    "total_psych.plot()\n",
    "\n",
    "plt.title(\"Psych Homicides vs. Ratings\")\n",
    "plt.xlabel(\"Year\")\n",
    "\n",
    "\n",
    "plt.legend(['Psych Murders', 'Psych Ratings'])\n",
    "plt.show()"
   ]
  },
  {
   "cell_type": "markdown",
   "metadata": {},
   "source": [
    "This chart doesn't seem so clean. I think what might be best is to scale and standardize the data so comparing the relationship between Psych's ratings and the murders on the show are more interpretable."
   ]
  },
  {
   "cell_type": "code",
   "execution_count": 28,
   "metadata": {},
   "outputs": [
    {
     "name": "stderr",
     "output_type": "stream",
     "text": [
      "C:\\Users\\kalstedh\\AppData\\Local\\Continuum\\anaconda3\\lib\\site-packages\\sklearn\\preprocessing\\data.py:645: DataConversionWarning: Data with input dtype int64, float64 were all converted to float64 by StandardScaler.\n",
      "  return self.partial_fit(X, y)\n",
      "C:\\Users\\kalstedh\\AppData\\Local\\Continuum\\anaconda3\\lib\\site-packages\\sklearn\\base.py:464: DataConversionWarning: Data with input dtype int64, float64 were all converted to float64 by StandardScaler.\n",
      "  return self.fit(X, **fit_params).transform(X)\n"
     ]
    }
   ],
   "source": [
    "#Here I am importing the Standard Scaler library and scaling the total_psych dataset\n",
    "\n",
    "from sklearn.preprocessing import StandardScaler\n",
    "\n",
    "sc_X = StandardScaler()\n",
    "\n",
    "psych_scaled = sc_X.fit_transform(total_psych)"
   ]
  },
  {
   "cell_type": "code",
   "execution_count": 29,
   "metadata": {},
   "outputs": [
    {
     "data": {
      "text/plain": [
       "array([[-0.18898224,  1.24503567],\n",
       "       [-0.18898224,  0.75171965],\n",
       "       [-0.94491118,  0.99837766],\n",
       "       [-0.56694671,  0.38760544],\n",
       "       [ 0.56694671,  0.02349124],\n",
       "       [ 0.56694671, -0.62251783],\n",
       "       [ 2.0788046 , -0.9044127 ],\n",
       "       [-1.32287566, -1.87929912]])"
      ]
     },
     "execution_count": 29,
     "metadata": {},
     "output_type": "execute_result"
    }
   ],
   "source": [
    "#Here is the reformed total_psych dataset\n",
    "\n",
    "psych_scaled"
   ]
  },
  {
   "cell_type": "code",
   "execution_count": 30,
   "metadata": {},
   "outputs": [
    {
     "name": "stdout",
     "output_type": "stream",
     "text": [
      "   Murders Scaled  Ratings Scaled\n",
      "0       -0.188982        1.245036\n",
      "1       -0.188982        0.751720\n",
      "2       -0.944911        0.998378\n",
      "3       -0.566947        0.387605\n",
      "4        0.566947        0.023491\n",
      "5        0.566947       -0.622518\n",
      "6        2.078805       -0.904413\n",
      "7       -1.322876       -1.879299\n"
     ]
    }
   ],
   "source": [
    "#Here I am converting the numpy array of psych_scaled back into a dataframe \n",
    "\n",
    "psych_scaled = pd.DataFrame(psych_scaled, columns=['Murders Scaled', 'Ratings Scaled']) \n",
    "\n",
    "print(psych_scaled)"
   ]
  },
  {
   "cell_type": "code",
   "execution_count": 31,
   "metadata": {},
   "outputs": [],
   "source": [
    "#Here I am creating a dataframe for years so I can add it to the psych_scaled dataframe\n",
    "\n",
    "year = pd.DataFrame({'Year':[2006, 2007, 2008, 2009, 2010, 2011, 2012, 2013]}) "
   ]
  },
  {
   "cell_type": "code",
   "execution_count": 32,
   "metadata": {},
   "outputs": [
    {
     "data": {
      "text/html": [
       "<div>\n",
       "<style scoped>\n",
       "    .dataframe tbody tr th:only-of-type {\n",
       "        vertical-align: middle;\n",
       "    }\n",
       "\n",
       "    .dataframe tbody tr th {\n",
       "        vertical-align: top;\n",
       "    }\n",
       "\n",
       "    .dataframe thead th {\n",
       "        text-align: right;\n",
       "    }\n",
       "</style>\n",
       "<table border=\"1\" class=\"dataframe\">\n",
       "  <thead>\n",
       "    <tr style=\"text-align: right;\">\n",
       "      <th></th>\n",
       "      <th>Year</th>\n",
       "    </tr>\n",
       "  </thead>\n",
       "  <tbody>\n",
       "    <tr>\n",
       "      <th>0</th>\n",
       "      <td>2006</td>\n",
       "    </tr>\n",
       "    <tr>\n",
       "      <th>1</th>\n",
       "      <td>2007</td>\n",
       "    </tr>\n",
       "    <tr>\n",
       "      <th>2</th>\n",
       "      <td>2008</td>\n",
       "    </tr>\n",
       "    <tr>\n",
       "      <th>3</th>\n",
       "      <td>2009</td>\n",
       "    </tr>\n",
       "    <tr>\n",
       "      <th>4</th>\n",
       "      <td>2010</td>\n",
       "    </tr>\n",
       "  </tbody>\n",
       "</table>\n",
       "</div>"
      ],
      "text/plain": [
       "   Year\n",
       "0  2006\n",
       "1  2007\n",
       "2  2008\n",
       "3  2009\n",
       "4  2010"
      ]
     },
     "execution_count": 32,
     "metadata": {},
     "output_type": "execute_result"
    }
   ],
   "source": [
    "#Checking if I created the dataframe correctly\n",
    "\n",
    "year.head()"
   ]
  },
  {
   "cell_type": "code",
   "execution_count": 33,
   "metadata": {},
   "outputs": [],
   "source": [
    "#Here I am officially adding the year dataframe to the psych_scaled dataframe\n",
    "\n",
    "psych_scaled = pd.concat([year, psych_scaled], axis=1, join='inner')"
   ]
  },
  {
   "cell_type": "code",
   "execution_count": 34,
   "metadata": {},
   "outputs": [
    {
     "data": {
      "text/html": [
       "<div>\n",
       "<style scoped>\n",
       "    .dataframe tbody tr th:only-of-type {\n",
       "        vertical-align: middle;\n",
       "    }\n",
       "\n",
       "    .dataframe tbody tr th {\n",
       "        vertical-align: top;\n",
       "    }\n",
       "\n",
       "    .dataframe thead th {\n",
       "        text-align: right;\n",
       "    }\n",
       "</style>\n",
       "<table border=\"1\" class=\"dataframe\">\n",
       "  <thead>\n",
       "    <tr style=\"text-align: right;\">\n",
       "      <th></th>\n",
       "      <th>Year</th>\n",
       "      <th>Murders Scaled</th>\n",
       "      <th>Ratings Scaled</th>\n",
       "    </tr>\n",
       "  </thead>\n",
       "  <tbody>\n",
       "    <tr>\n",
       "      <th>0</th>\n",
       "      <td>2006</td>\n",
       "      <td>-0.188982</td>\n",
       "      <td>1.245036</td>\n",
       "    </tr>\n",
       "    <tr>\n",
       "      <th>1</th>\n",
       "      <td>2007</td>\n",
       "      <td>-0.188982</td>\n",
       "      <td>0.751720</td>\n",
       "    </tr>\n",
       "    <tr>\n",
       "      <th>2</th>\n",
       "      <td>2008</td>\n",
       "      <td>-0.944911</td>\n",
       "      <td>0.998378</td>\n",
       "    </tr>\n",
       "    <tr>\n",
       "      <th>3</th>\n",
       "      <td>2009</td>\n",
       "      <td>-0.566947</td>\n",
       "      <td>0.387605</td>\n",
       "    </tr>\n",
       "    <tr>\n",
       "      <th>4</th>\n",
       "      <td>2010</td>\n",
       "      <td>0.566947</td>\n",
       "      <td>0.023491</td>\n",
       "    </tr>\n",
       "  </tbody>\n",
       "</table>\n",
       "</div>"
      ],
      "text/plain": [
       "   Year  Murders Scaled  Ratings Scaled\n",
       "0  2006       -0.188982        1.245036\n",
       "1  2007       -0.188982        0.751720\n",
       "2  2008       -0.944911        0.998378\n",
       "3  2009       -0.566947        0.387605\n",
       "4  2010        0.566947        0.023491"
      ]
     },
     "execution_count": 34,
     "metadata": {},
     "output_type": "execute_result"
    }
   ],
   "source": [
    "#Checking to see if everything came together correctly\n",
    "\n",
    "psych_scaled.head()"
   ]
  },
  {
   "cell_type": "code",
   "execution_count": 35,
   "metadata": {},
   "outputs": [],
   "source": [
    "#Here I am setting the column \"Year\" as the index to make it easier for plotting\n",
    "\n",
    "psych_scaled = psych_scaled.set_index(\"Year\")"
   ]
  },
  {
   "cell_type": "code",
   "execution_count": 36,
   "metadata": {},
   "outputs": [
    {
     "data": {
      "text/html": [
       "<div>\n",
       "<style scoped>\n",
       "    .dataframe tbody tr th:only-of-type {\n",
       "        vertical-align: middle;\n",
       "    }\n",
       "\n",
       "    .dataframe tbody tr th {\n",
       "        vertical-align: top;\n",
       "    }\n",
       "\n",
       "    .dataframe thead th {\n",
       "        text-align: right;\n",
       "    }\n",
       "</style>\n",
       "<table border=\"1\" class=\"dataframe\">\n",
       "  <thead>\n",
       "    <tr style=\"text-align: right;\">\n",
       "      <th></th>\n",
       "      <th>Murders Scaled</th>\n",
       "      <th>Ratings Scaled</th>\n",
       "    </tr>\n",
       "    <tr>\n",
       "      <th>Year</th>\n",
       "      <th></th>\n",
       "      <th></th>\n",
       "    </tr>\n",
       "  </thead>\n",
       "  <tbody>\n",
       "    <tr>\n",
       "      <th>2006</th>\n",
       "      <td>-0.188982</td>\n",
       "      <td>1.245036</td>\n",
       "    </tr>\n",
       "    <tr>\n",
       "      <th>2007</th>\n",
       "      <td>-0.188982</td>\n",
       "      <td>0.751720</td>\n",
       "    </tr>\n",
       "    <tr>\n",
       "      <th>2008</th>\n",
       "      <td>-0.944911</td>\n",
       "      <td>0.998378</td>\n",
       "    </tr>\n",
       "    <tr>\n",
       "      <th>2009</th>\n",
       "      <td>-0.566947</td>\n",
       "      <td>0.387605</td>\n",
       "    </tr>\n",
       "    <tr>\n",
       "      <th>2010</th>\n",
       "      <td>0.566947</td>\n",
       "      <td>0.023491</td>\n",
       "    </tr>\n",
       "  </tbody>\n",
       "</table>\n",
       "</div>"
      ],
      "text/plain": [
       "      Murders Scaled  Ratings Scaled\n",
       "Year                                \n",
       "2006       -0.188982        1.245036\n",
       "2007       -0.188982        0.751720\n",
       "2008       -0.944911        0.998378\n",
       "2009       -0.566947        0.387605\n",
       "2010        0.566947        0.023491"
      ]
     },
     "execution_count": 36,
     "metadata": {},
     "output_type": "execute_result"
    }
   ],
   "source": [
    "psych_scaled.head()"
   ]
  },
  {
   "cell_type": "code",
   "execution_count": 37,
   "metadata": {},
   "outputs": [
    {
     "data": {
      "image/png": "[encoded data removed]",
      "text/plain": [
       "<Figure size 432x288 with 1 Axes>"
      ]
     },
     "metadata": {
      "needs_background": "light"
     },
     "output_type": "display_data"
    }
   ],
   "source": [
    "#Here I am plotting the scaled data\n",
    "#It looks cleaner and more interpretable than before\n",
    "#However, I still do not see any sort of relationship going on, maybe a negative one\n",
    "\n",
    "psych_scaled.plot()\n",
    "\n",
    "plt.title(\"Psych Homicides vs. Ratings\")\n",
    "plt.xlabel(\"Year\")\n",
    "\n",
    "\n",
    "plt.legend(['Psych Murders', 'Psych Ratings'])\n",
    "plt.show()"
   ]
  },
  {
   "cell_type": "markdown",
   "metadata": {},
   "source": [
    "#### Checking for actual correlation"
   ]
  },
  {
   "cell_type": "markdown",
   "metadata": {},
   "source": [
    "Just to pique my curiosity, I am going to test if there is any kind of correlation between the number of homicides on Psych and the viewership of Psych. No feature scaling is needed so I will be using the non-scaled total_psych dataset"
   ]
  },
  {
   "cell_type": "code",
   "execution_count": 38,
   "metadata": {},
   "outputs": [
    {
     "data": {
      "image/png": "[encoded data removed]",
      "text/plain": [
       "<Figure size 432x288 with 1 Axes>"
      ]
     },
     "metadata": {
      "needs_background": "light"
     },
     "output_type": "display_data"
    }
   ],
   "source": [
    "#Here I am plotting the relationship between murders on Psych and the ratings of Psych\n",
    "#At first glance there does seem to be a clear negative relationship between murders and ratings\n",
    "\n",
    "ax = total_psych.plot(kind='scatter', x='Murders(Fictional)', y='Average Ratings')\n",
    "\n",
    "plt.ylabel(\"Ratings (in millions)\")\n",
    "\n",
    "plt.xlabel(\"Homicides on Psych\")\n",
    "\n",
    "plt.title(\"Murders vs. Ratings\");"
   ]
  },
  {
   "cell_type": "code",
   "execution_count": 39,
   "metadata": {},
   "outputs": [
    {
     "data": {
      "text/html": [
       "<div>\n",
       "<style scoped>\n",
       "    .dataframe tbody tr th:only-of-type {\n",
       "        vertical-align: middle;\n",
       "    }\n",
       "\n",
       "    .dataframe tbody tr th {\n",
       "        vertical-align: top;\n",
       "    }\n",
       "\n",
       "    .dataframe thead th {\n",
       "        text-align: right;\n",
       "    }\n",
       "</style>\n",
       "<table border=\"1\" class=\"dataframe\">\n",
       "  <thead>\n",
       "    <tr style=\"text-align: right;\">\n",
       "      <th></th>\n",
       "      <th>Murders(Fictional)</th>\n",
       "      <th>Average Ratings</th>\n",
       "    </tr>\n",
       "  </thead>\n",
       "  <tbody>\n",
       "    <tr>\n",
       "      <th>Murders(Fictional)</th>\n",
       "      <td>1.000000</td>\n",
       "      <td>-0.159264</td>\n",
       "    </tr>\n",
       "    <tr>\n",
       "      <th>Average Ratings</th>\n",
       "      <td>-0.159264</td>\n",
       "      <td>1.000000</td>\n",
       "    </tr>\n",
       "  </tbody>\n",
       "</table>\n",
       "</div>"
      ],
      "text/plain": [
       "                    Murders(Fictional)  Average Ratings\n",
       "Murders(Fictional)            1.000000        -0.159264\n",
       "Average Ratings              -0.159264         1.000000"
      ]
     },
     "execution_count": 39,
     "metadata": {},
     "output_type": "execute_result"
    }
   ],
   "source": [
    "#And here is the actual correlation between the variables\n",
    "#Looks like there is a slight negative relationship between the murders shown and the ratings of the show\n",
    "#Of course, correlation is not causation so we should investigate further\n",
    "\n",
    "total_psych.corr()"
   ]
  },
  {
   "cell_type": "markdown",
   "metadata": {},
   "source": [
    "# Creating a Basic Regression Model"
   ]
  },
  {
   "cell_type": "markdown",
   "metadata": {},
   "source": [
    "In order to truly find any kind of causal relationship, we need to build a model. Below I will use simple linear regression to test the relationship between homicides on Psych and the viewship of Psych. Since we have both the features (murders) and target (ratings) this will be a supervised learning project. "
   ]
  },
  {
   "cell_type": "code",
   "execution_count": 40,
   "metadata": {},
   "outputs": [],
   "source": [
    "#Here I am separating X and y values \n",
    "\n",
    "X = total_psych.iloc[:,:-1].values\n",
    "y = total_psych.iloc[:,1].values"
   ]
  },
  {
   "cell_type": "code",
   "execution_count": 41,
   "metadata": {},
   "outputs": [
    {
     "name": "stdout",
     "output_type": "stream",
     "text": [
      "[[16]\n",
      " [16]\n",
      " [14]\n",
      " [15]\n",
      " [18]\n",
      " [18]\n",
      " [22]\n",
      " [13]]\n"
     ]
    }
   ],
   "source": [
    "#Here I am verifying my X variables\n",
    "\n",
    "print(X)"
   ]
  },
  {
   "cell_type": "code",
   "execution_count": 42,
   "metadata": {},
   "outputs": [
    {
     "name": "stdout",
     "output_type": "stream",
     "text": [
      "[4.34 3.92 4.13 3.61 3.3  2.75 2.51 1.68]\n"
     ]
    }
   ],
   "source": [
    "#Here I am verifying my y variables\n",
    "\n",
    "print(y)"
   ]
  },
  {
   "cell_type": "code",
   "execution_count": 43,
   "metadata": {},
   "outputs": [],
   "source": [
    "#Here I am splitting the dataset into training and test sets\n",
    "#As you can see, \"test size\" of .3 means 30% of the data will be used for the test set and 70% for the training set\n",
    "\n",
    "from sklearn.model_selection import train_test_split\n",
    "\n",
    "X_train, X_test, y_train, y_test = train_test_split(X, y, test_size = .3, random_state=0)"
   ]
  },
  {
   "cell_type": "code",
   "execution_count": 44,
   "metadata": {},
   "outputs": [
    {
     "data": {
      "text/plain": [
       "LinearRegression(copy_X=True, fit_intercept=True, n_jobs=None,\n",
       "         normalize=False)"
      ]
     },
     "execution_count": 44,
     "metadata": {},
     "output_type": "execute_result"
    }
   ],
   "source": [
    "#Here I setting up my linear regression model\n",
    "\n",
    "from sklearn.linear_model import LinearRegression\n",
    "\n",
    "regressor = LinearRegression()\n",
    "\n",
    "#Here we are fitting the linear regression model to our training set\n",
    "#We will be using the fit method from the LinearRegression class\n",
    "regressor.fit(X_train, y_train)"
   ]
  },
  {
   "cell_type": "code",
   "execution_count": 45,
   "metadata": {},
   "outputs": [
    {
     "data": {
      "image/png": "[encoded data removed]",
      "text/plain": [
       "<Figure size 432x288 with 1 Axes>"
      ]
     },
     "metadata": {
      "needs_background": "light"
     },
     "output_type": "display_data"
    }
   ],
   "source": [
    "#Here we are plotting our real data, using the training set\n",
    "#We want to plot the points, then plot the regression line that runs through\n",
    "#We want to compare the actual data on the training set, to the predicted values derived from the training set\n",
    "\n",
    "plt.scatter(X_train, y_train, color = \"red\")\n",
    "\n",
    "plt.plot(X_train, regressor.predict(X_train), color = \"blue\")\n",
    "\n",
    "#Here we are just simply labeling our graph\n",
    "plt.title(\"Murder vs. Ratings (Training Set)\")\n",
    "plt.xlabel(\"Murders Each Season\")\n",
    "plt.ylabel(\"Ratings Each Season (in millions)\")\n",
    "plt.show()"
   ]
  },
  {
   "cell_type": "markdown",
   "metadata": {},
   "source": [
    "The line does not look like it has much of any predictive capabilty"
   ]
  },
  {
   "cell_type": "code",
   "execution_count": 46,
   "metadata": {},
   "outputs": [
    {
     "data": {
      "image/png": "[encoded data removed]",
      "text/plain": [
       "<Figure size 432x288 with 1 Axes>"
      ]
     },
     "metadata": {
      "needs_background": "light"
     },
     "output_type": "display_data"
    }
   ],
   "source": [
    "#Here we are plotting our real data, using the test set\n",
    "#We want to plot the points, then plot the regression line that runs through\n",
    "#We want to compare the actual data on the test set, to the predicted values derived from the training set (yes, still training set)\n",
    "\n",
    "plt.scatter(X_test, y_test, color = \"red\")\n",
    "\n",
    "plt.plot(X_train, regressor.predict(X_train), color = \"blue\")\n",
    "\n",
    "#Here we are just simply labeling our graph\n",
    "plt.title(\"Murder vs. Ratings (Test Set)\")\n",
    "plt.xlabel(\"Murders Each Season\")\n",
    "plt.ylabel(\"Ratings Each Season (in millions)\")\n",
    "plt.show()"
   ]
  },
  {
   "cell_type": "markdown",
   "metadata": {},
   "source": [
    "Once again this looks horrible. "
   ]
  },
  {
   "cell_type": "code",
   "execution_count": 47,
   "metadata": {},
   "outputs": [
    {
     "name": "stdout",
     "output_type": "stream",
     "text": [
      "0.16655667838755495\n",
      "-2.6502249137425005\n"
     ]
    }
   ],
   "source": [
    "#Here I am printing the R-Squared values for the training and test sets\n",
    "#Both scores are miserable. The model has basically zero explantory power\n",
    "\n",
    "print(regressor.score(X_train, y_train))\n",
    "print(regressor.score(X_test, y_test))"
   ]
  },
  {
   "cell_type": "code",
   "execution_count": 48,
   "metadata": {},
   "outputs": [
    {
     "data": {
      "text/plain": [
       "<matplotlib.axes._subplots.AxesSubplot at 0x2b045a65550>"
      ]
     },
     "execution_count": 48,
     "metadata": {},
     "output_type": "execute_result"
    },
    {
     "data": {
      "image/png": "[encoded data removed]",
      "text/plain": [
       "<Figure size 432x288 with 1 Axes>"
      ]
     },
     "metadata": {
      "needs_background": "light"
     },
     "output_type": "display_data"
    }
   ],
   "source": [
    "#Here I am just double checking if the errors are normally distributed (homoskedastic vs. heteroskedastic)\n",
    "#The residuals look normally distributed with a slight right skew\n",
    "\n",
    "sns.distplot(y_train - regressor.predict(X_train))"
   ]
  },
  {
   "cell_type": "markdown",
   "metadata": {},
   "source": [
    "#### Further Comments"
   ]
  },
  {
   "cell_type": "markdown",
   "metadata": {},
   "source": [
    "1. Both the data and the residuals are normally distributed, so there really is no need for log transformation\n",
    "2. Though I doubt there is truly any relationship between the murders on Psych and the ratings for Psych, the lack of data\n",
    "    (N is only 8 when ideally you want at least 30) will always hinder the model building"
   ]
  },
  {
   "cell_type": "code",
   "execution_count": 49,
   "metadata": {},
   "outputs": [],
   "source": [
    "#Once again I doubt there is truly any significant relationship between the murders portrayed on Psych and Psych's ratings\n",
    "#However, just to be thorough I am going to check the statistical significance of the independent variable (murders)\n",
    "#In order to check the statistical significance, I am going to import the statsmodel library\n",
    "\n",
    "import statsmodels.api as sm"
   ]
  },
  {
   "cell_type": "code",
   "execution_count": 50,
   "metadata": {},
   "outputs": [],
   "source": [
    "#Essentially we need a B0X0\n",
    "#The stats model library is useful, but does not contain the constant column, hence why we add it\n",
    "\n",
    "#This is specifically a column of 8 \"ones\" since the constant will just multiply by one to keep its value\n",
    "#The append function helps us add a new column to our dataset\n",
    "X = np.append(arr =  np.ones((8,1)).astype(int), values = X, axis = 1)"
   ]
  },
  {
   "cell_type": "code",
   "execution_count": 51,
   "metadata": {},
   "outputs": [
    {
     "data": {
      "text/plain": [
       "array([[ 1, 16],\n",
       "       [ 1, 16],\n",
       "       [ 1, 14],\n",
       "       [ 1, 15],\n",
       "       [ 1, 18],\n",
       "       [ 1, 18],\n",
       "       [ 1, 22],\n",
       "       [ 1, 13]], dtype=int64)"
      ]
     },
     "execution_count": 51,
     "metadata": {},
     "output_type": "execute_result"
    }
   ],
   "source": [
    "#Checking if X came out correct\n",
    "#We now have a Beta Constant and a Beta One to plug into our model\n",
    "\n",
    "X"
   ]
  },
  {
   "cell_type": "code",
   "execution_count": 52,
   "metadata": {},
   "outputs": [],
   "source": [
    "#The stats model has an OLS method that gives us a nice statistical summary of our model\n",
    "\n",
    "regressor_OLS = sm.OLS(endog = y, exog = X).fit()"
   ]
  },
  {
   "cell_type": "code",
   "execution_count": 53,
   "metadata": {},
   "outputs": [
    {
     "name": "stderr",
     "output_type": "stream",
     "text": [
      "C:\\Users\\kalstedh\\AppData\\Local\\Continuum\\anaconda3\\lib\\site-packages\\scipy\\stats\\stats.py:1416: UserWarning: kurtosistest only valid for n>=20 ... continuing anyway, n=8\n",
      "  \"anyway, n=%i\" % int(n))\n"
     ]
    },
    {
     "data": {
      "text/html": [
       "<table class=\"simpletable\">\n",
       "<caption>OLS Regression Results</caption>\n",
       "<tr>\n",
       "  <th>Dep. Variable:</th>            <td>y</td>        <th>  R-squared:         </th> <td>   0.025</td>\n",
       "</tr>\n",
       "<tr>\n",
       "  <th>Model:</th>                   <td>OLS</td>       <th>  Adj. R-squared:    </th> <td>  -0.137</td>\n",
       "</tr>\n",
       "<tr>\n",
       "  <th>Method:</th>             <td>Least Squares</td>  <th>  F-statistic:       </th> <td>  0.1562</td>\n",
       "</tr>\n",
       "<tr>\n",
       "  <th>Date:</th>             <td>Fri, 19 Jun 2020</td> <th>  Prob (F-statistic):</th>  <td> 0.706</td> \n",
       "</tr>\n",
       "<tr>\n",
       "  <th>Time:</th>                 <td>16:50:08</td>     <th>  Log-Likelihood:    </th> <td> -9.9616</td>\n",
       "</tr>\n",
       "<tr>\n",
       "  <th>No. Observations:</th>      <td>     8</td>      <th>  AIC:               </th> <td>   23.92</td>\n",
       "</tr>\n",
       "<tr>\n",
       "  <th>Df Residuals:</th>          <td>     6</td>      <th>  BIC:               </th> <td>   24.08</td>\n",
       "</tr>\n",
       "<tr>\n",
       "  <th>Df Model:</th>              <td>     1</td>      <th>                     </th>     <td> </td>   \n",
       "</tr>\n",
       "<tr>\n",
       "  <th>Covariance Type:</th>      <td>nonrobust</td>    <th>                     </th>     <td> </td>   \n",
       "</tr>\n",
       "</table>\n",
       "<table class=\"simpletable\">\n",
       "<tr>\n",
       "    <td></td>       <th>coef</th>     <th>std err</th>      <th>t</th>      <th>P>|t|</th>  <th>[0.025</th>    <th>0.975]</th>  \n",
       "</tr>\n",
       "<tr>\n",
       "  <th>const</th> <td>    4.1256</td> <td>    2.167</td> <td>    1.904</td> <td> 0.106</td> <td>   -1.178</td> <td>    9.429</td>\n",
       "</tr>\n",
       "<tr>\n",
       "  <th>x1</th>    <td>   -0.0513</td> <td>    0.130</td> <td>   -0.395</td> <td> 0.706</td> <td>   -0.369</td> <td>    0.266</td>\n",
       "</tr>\n",
       "</table>\n",
       "<table class=\"simpletable\">\n",
       "<tr>\n",
       "  <th>Omnibus:</th>       <td> 2.966</td> <th>  Durbin-Watson:     </th> <td>   0.425</td>\n",
       "</tr>\n",
       "<tr>\n",
       "  <th>Prob(Omnibus):</th> <td> 0.227</td> <th>  Jarque-Bera (JB):  </th> <td>   1.000</td>\n",
       "</tr>\n",
       "<tr>\n",
       "  <th>Skew:</th>          <td>-0.865</td> <th>  Prob(JB):          </th> <td>   0.606</td>\n",
       "</tr>\n",
       "<tr>\n",
       "  <th>Kurtosis:</th>      <td> 2.927</td> <th>  Cond. No.          </th> <td>    106.</td>\n",
       "</tr>\n",
       "</table><br/><br/>Warnings:<br/>[1] Standard Errors assume that the covariance matrix of the errors is correctly specified."
      ],
      "text/plain": [
       "<class 'statsmodels.iolib.summary.Summary'>\n",
       "\"\"\"\n",
       "                            OLS Regression Results                            \n",
       "==============================================================================\n",
       "Dep. Variable:                      y   R-squared:                       0.025\n",
       "Model:                            OLS   Adj. R-squared:                 -0.137\n",
       "Method:                 Least Squares   F-statistic:                    0.1562\n",
       "Date:                Fri, 19 Jun 2020   Prob (F-statistic):              0.706\n",
       "Time:                        16:50:08   Log-Likelihood:                -9.9616\n",
       "No. Observations:                   8   AIC:                             23.92\n",
       "Df Residuals:                       6   BIC:                             24.08\n",
       "Df Model:                           1                                         \n",
       "Covariance Type:            nonrobust                                         \n",
       "==============================================================================\n",
       "                 coef    std err          t      P>|t|      [0.025      0.975]\n",
       "------------------------------------------------------------------------------\n",
       "const          4.1256      2.167      1.904      0.106      -1.178       9.429\n",
       "x1            -0.0513      0.130     -0.395      0.706      -0.369       0.266\n",
       "==============================================================================\n",
       "Omnibus:                        2.966   Durbin-Watson:                   0.425\n",
       "Prob(Omnibus):                  0.227   Jarque-Bera (JB):                1.000\n",
       "Skew:                          -0.865   Prob(JB):                        0.606\n",
       "Kurtosis:                       2.927   Cond. No.                         106.\n",
       "==============================================================================\n",
       "\n",
       "Warnings:\n",
       "[1] Standard Errors assume that the covariance matrix of the errors is correctly specified.\n",
       "\"\"\""
      ]
     },
     "execution_count": 53,
     "metadata": {},
     "output_type": "execute_result"
    }
   ],
   "source": [
    "#Here we are checking the p-values of our various X variables\n",
    "#Our indepedent variable has a p-value of .7, way higher than standard significance of .05\n",
    "#As suspected, there is no statistical significance to the murders on Psych as it pertains to Psych's ratings\n",
    "\n",
    "regressor_OLS.summary()"
   ]
  },
  {
   "cell_type": "code",
   "execution_count": null,
   "metadata": {},
   "outputs": [],
   "source": []
  }
 ],
 "metadata": {
  "kernelspec": {
   "display_name": "Python 3",
   "language": "python",
   "name": "python3"
  },
  "language_info": {
   "codemirror_mode": {
    "name": "ipython",
    "version": 3
   },
   "file_extension": ".py",
   "mimetype": "text/x-python",
   "name": "python",
   "nbconvert_exporter": "python",
   "pygments_lexer": "ipython3",
   "version": "3.7.3"
  }
 },
 "nbformat": 4,
 "nbformat_minor": 2
}
